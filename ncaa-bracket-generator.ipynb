{
 "cells": [
  {
   "cell_type": "markdown",
   "metadata": {},
   "source": [
    "#2016 NCAA Bracket Generator\n",
    "\n",
    "### Based on statistics gathered via fivethirtyeight: \n",
    "#### http://fivethirtyeight.com/features/the-best-mens-college-basketball-teams-just-arent-very-good-this-year/\n",
    "\n",
    "The goal here is to read through six pages using Beautiful Soup 4, gather statistics, and build a Monte Carlo simulation to come up with likely scenarios. \n",
    "\n",
    "Pages we're using for statistics:\n",
    "\n",
    "- 2016 Pomeroy College Basketball rankings: http://kenpom.com/\n",
    "- Sports Reference 2015-2016 school ratings: http://www.sports-reference.com/cbb/seasons/2016-ratings.html\n",
    "- Rankings via Dolphinism: http://www.dolphinsim.com/ratings/ncaa_mbb/index_pred.html\n",
    "- Jeff Sagarin's College Basketball rankings: http://sagarin.com/sports/cbsend.htm\n",
    "- Sonny Moore's Computer Power ratings: http://sonnymoorepowerratings.com/m-basket.htm\n",
    "- The 2016 Bracket Matrix: http://www.bracketmatrix.com/"
   ]
  },
  {
   "cell_type": "code",
   "execution_count": 30,
   "metadata": {
    "collapsed": false
   },
   "outputs": [],
   "source": [
    "import requests\n",
    "import bs4\n",
    "import pandas as pd\n",
    "import numpy as np\n",
    "import re\n",
    "\n",
    "%matplotlib inline"
   ]
  },
  {
   "cell_type": "markdown",
   "metadata": {},
   "source": [
    "## Grab page data using requests, parse with Beautiful Soup"
   ]
  },
  {
   "cell_type": "code",
   "execution_count": 2,
   "metadata": {
    "collapsed": true
   },
   "outputs": [],
   "source": [
    "kp_raw = requests.get(\"http://kenpom.com\")\n",
    "kp = kp_raw.text\n",
    "sr_raw = requests.get(\"http://www.sports-reference.com/cbb/seasons/2016-ratings.html\")\n",
    "sr = sr_raw.text\n",
    "dp_raw = requests.get(\"http://www.dolphinsim.com/ratings/ncaa_mbb/index_pred.html\")\n",
    "dp = dp_raw.text\n",
    "js_raw = requests.get(\"http://sagarin.com/sports/cbsend.htm\")\n",
    "js = js_raw.text\n",
    "sm_raw = requests.get(\"http://sonnymoorepowerratings.com/m-basket.htm\")\n",
    "sm = sm_raw.text\n",
    "bm_raw = requests.get(\"http://www.bracketmatrix.com/\")\n",
    "bm = bm_raw.text"
   ]
  },
  {
   "cell_type": "markdown",
   "metadata": {},
   "source": [
    "### Ken Pomeroy"
   ]
  },
  {
   "cell_type": "code",
   "execution_count": 3,
   "metadata": {
    "collapsed": false
   },
   "outputs": [],
   "source": [
    "## NB: Use html5lib parser rather than lxml\n",
    "kp_data = bs4.BeautifulSoup(kp, \"html5lib\")"
   ]
  },
  {
   "cell_type": "code",
   "execution_count": 4,
   "metadata": {
    "collapsed": false
   },
   "outputs": [],
   "source": [
    "table = kp_data.find_all('table')[0]\n",
    "rows = table.findAll('tr')\n",
    "\n",
    "kpd = []\n",
    "\n",
    "for tr in rows:\n",
    "    cols = tr.findAll('td')\n",
    "    #rank,team,conf,wl,pyth,adjo,adjd,adjt,luck,pyth_s,oppo,oppd,pyth_n = [ c.text for c in cols ]\n",
    "    kpd.append([ c.text for c in cols ])"
   ]
  },
  {
   "cell_type": "code",
   "execution_count": 5,
   "metadata": {
    "collapsed": false
   },
   "outputs": [],
   "source": [
    "kp_df = pd.DataFrame(kpd)"
   ]
  },
  {
   "cell_type": "code",
   "execution_count": 6,
   "metadata": {
    "collapsed": false,
    "scrolled": true
   },
   "outputs": [
    {
     "data": {
      "text/plain": [
       "(369, 21)"
      ]
     },
     "execution_count": 6,
     "metadata": {},
     "output_type": "execute_result"
    }
   ],
   "source": [
    "kp_df.shape"
   ]
  },
  {
   "cell_type": "markdown",
   "metadata": {},
   "source": [
    "### Sports Reference"
   ]
  },
  {
   "cell_type": "code",
   "execution_count": 7,
   "metadata": {
    "collapsed": false
   },
   "outputs": [],
   "source": [
    "## NB: Use html5lib parser rather than lxml\n",
    "sr_data = bs4.BeautifulSoup(sr, \"html5lib\")"
   ]
  },
  {
   "cell_type": "code",
   "execution_count": 8,
   "metadata": {
    "collapsed": false
   },
   "outputs": [],
   "source": [
    "table = sr_data.find_all('table')[0]\n",
    "rows = table.find_all('tr')\n",
    "\n",
    "srd = []\n",
    "\n",
    "for tr in rows:\n",
    "    cols = tr.find_all('td')\n",
    "    srd.append([ c.text for c in cols ])"
   ]
  },
  {
   "cell_type": "code",
   "execution_count": 9,
   "metadata": {
    "collapsed": true
   },
   "outputs": [],
   "source": [
    "sr_df = pd.DataFrame(srd)"
   ]
  },
  {
   "cell_type": "code",
   "execution_count": 10,
   "metadata": {
    "collapsed": false
   },
   "outputs": [
    {
     "data": {
      "text/plain": [
       "(387, 15)"
      ]
     },
     "execution_count": 10,
     "metadata": {},
     "output_type": "execute_result"
    }
   ],
   "source": [
    "sr_df.shape"
   ]
  },
  {
   "cell_type": "markdown",
   "metadata": {},
   "source": [
    "### Dolphinism"
   ]
  },
  {
   "cell_type": "code",
   "execution_count": 40,
   "metadata": {
    "collapsed": true
   },
   "outputs": [],
   "source": [
    "## NB: Use html5lib parser rather than lxml\n",
    "dp_data = bs4.BeautifulSoup(dp, \"html5lib\")"
   ]
  },
  {
   "cell_type": "code",
   "execution_count": 41,
   "metadata": {
    "collapsed": false
   },
   "outputs": [],
   "source": [
    "## Dolphinism doesn't use a table\n",
    "table = dp_data.find_all('code')"
   ]
  },
  {
   "cell_type": "code",
   "execution_count": 42,
   "metadata": {
    "collapsed": false
   },
   "outputs": [],
   "source": [
    "dpd = []\n",
    "for row in table[0].text.split('\\n'):\n",
    "    dpd.append(re.split(r'\\s{2,}', row))"
   ]
  },
  {
   "cell_type": "code",
   "execution_count": 43,
   "metadata": {
    "collapsed": false
   },
   "outputs": [],
   "source": [
    "dp_df = pd.DataFrame(dpd)"
   ]
  },
  {
   "cell_type": "code",
   "execution_count": 44,
   "metadata": {
    "collapsed": false
   },
   "outputs": [
    {
     "data": {
      "text/plain": [
       "(390, 22)"
      ]
     },
     "execution_count": 44,
     "metadata": {},
     "output_type": "execute_result"
    }
   ],
   "source": [
    "dp_df.shape"
   ]
  },
  {
   "cell_type": "markdown",
   "metadata": {},
   "source": [
    "### Jeff Sagarin"
   ]
  },
  {
   "cell_type": "code",
   "execution_count": 45,
   "metadata": {
    "collapsed": true
   },
   "outputs": [],
   "source": [
    "## NB: Use html5lib parser rather than lxml\n",
    "js_data = bs4.BeautifulSoup(js, \"html5lib\")"
   ]
  },
  {
   "cell_type": "code",
   "execution_count": 46,
   "metadata": {
    "collapsed": true
   },
   "outputs": [],
   "source": [
    "table = js_data.find_all('pre')"
   ]
  },
  {
   "cell_type": "code",
   "execution_count": 68,
   "metadata": {
    "collapsed": false
   },
   "outputs": [],
   "source": [
    "## If I thought Dolphinism was bad... Sagarin takes the cake.\n",
    "## I don't know what to do with this :(\n",
    "\n",
    "#table[1]"
   ]
  },
  {
   "cell_type": "code",
   "execution_count": null,
   "metadata": {
    "collapsed": true
   },
   "outputs": [],
   "source": []
  },
  {
   "cell_type": "markdown",
   "metadata": {},
   "source": [
    "### Sonny Moore"
   ]
  },
  {
   "cell_type": "code",
   "execution_count": 50,
   "metadata": {
    "collapsed": true
   },
   "outputs": [],
   "source": [
    "## NB: Use html5lib parser rather than lxml\n",
    "sm_data = bs4.BeautifulSoup(sm, \"html5lib\")"
   ]
  },
  {
   "cell_type": "code",
   "execution_count": 53,
   "metadata": {
    "collapsed": false
   },
   "outputs": [],
   "source": [
    "## Looks like Sonny prefers plain text tables too\n",
    "table = sm_data.find_all('b')"
   ]
  },
  {
   "cell_type": "code",
   "execution_count": 54,
   "metadata": {
    "collapsed": false
   },
   "outputs": [],
   "source": [
    "smd = []\n",
    "for row in table[0].text.split('\\n'):\n",
    "    smd.append(re.split(r'\\s{2,}', row))"
   ]
  },
  {
   "cell_type": "code",
   "execution_count": 55,
   "metadata": {
    "collapsed": true
   },
   "outputs": [],
   "source": [
    "sm_df = pd.DataFrame(smd)"
   ]
  },
  {
   "cell_type": "markdown",
   "metadata": {},
   "source": [
    "### Bracket Matrix"
   ]
  },
  {
   "cell_type": "code",
   "execution_count": 58,
   "metadata": {
    "collapsed": true
   },
   "outputs": [],
   "source": [
    "## NB: Use html5lib parser rather than lxml\n",
    "bm_data = bs4.BeautifulSoup(bm, \"html5lib\")"
   ]
  },
  {
   "cell_type": "code",
   "execution_count": 62,
   "metadata": {
    "collapsed": true
   },
   "outputs": [],
   "source": [
    "table = bm_data.find_all('table')[0]\n",
    "rows = table.find_all('tr')\n",
    "\n",
    "bmd = []\n",
    "\n",
    "for tr in rows:\n",
    "    cols = tr.find_all('td')\n",
    "    bmd.append([ c.text for c in cols ])"
   ]
  },
  {
   "cell_type": "code",
   "execution_count": 63,
   "metadata": {
    "collapsed": false
   },
   "outputs": [],
   "source": [
    "bm_df = pd.DataFrame(bmd)"
   ]
  },
  {
   "cell_type": "code",
   "execution_count": 67,
   "metadata": {
    "collapsed": false
   },
   "outputs": [
    {
     "data": {
      "text/plain": [
       "(102, 104)"
      ]
     },
     "execution_count": 67,
     "metadata": {},
     "output_type": "execute_result"
    }
   ],
   "source": [
    "bm_df.shape"
   ]
  },
  {
   "cell_type": "markdown",
   "metadata": {},
   "source": [
    "## Data cleaning"
   ]
  },
  {
   "cell_type": "code",
   "execution_count": null,
   "metadata": {
    "collapsed": true
   },
   "outputs": [],
   "source": []
  }
 ],
 "metadata": {
  "kernelspec": {
   "display_name": "Python 2",
   "language": "python",
   "name": "python2"
  },
  "language_info": {
   "codemirror_mode": {
    "name": "ipython",
    "version": 2
   },
   "file_extension": ".py",
   "mimetype": "text/x-python",
   "name": "python",
   "nbconvert_exporter": "python",
   "pygments_lexer": "ipython2",
   "version": "2.7.11"
  }
 },
 "nbformat": 4,
 "nbformat_minor": 0
}
